{
  "nbformat": 4,
  "nbformat_minor": 0,
  "metadata": {
    "colab": {
      "provenance": [],
      "gpuType": "T4",
      "authorship_tag": "ABX9TyNcFynbzwdeC0FtQPJD+3Rd",
      "include_colab_link": true
    },
    "kernelspec": {
      "name": "python3",
      "display_name": "Python 3"
    },
    "language_info": {
      "name": "python"
    },
    "accelerator": "GPU"
  },
  "cells": [
    {
      "cell_type": "markdown",
      "metadata": {
        "id": "view-in-github",
        "colab_type": "text"
      },
      "source": [
        "<a href=\"https://colab.research.google.com/github/karthikugn21/Sketch-to-image/blob/main/Sketch_to_image.ipynb\" target=\"_parent\"><img src=\"https://colab.research.google.com/assets/colab-badge.svg\" alt=\"Open In Colab\"/></a>"
      ]
    },
    {
      "cell_type": "code",
      "source": [
        "!pip install gradio\n",
        "import torch\n",
        "from diffusers import StableDiffusionXLPipeline, ControlNetModel, UniPCMultistepScheduler\n",
        "from PIL import Image, ImageOps\n",
        "import gradio as gr\n",
        "\n",
        "def preprocess_sketch_pil(img: Image.Image, image_size: int = 1024) -> Image.Image:\n",
        "    img = img.convert(\"L\")\n",
        "    img = ImageOps.invert(img)\n",
        "    img = img.resize((image_size, image_size))\n",
        "    img = img.convert(\"RGB\")\n",
        "    return img\n",
        "\n",
        "def load_pipeline():\n",
        "    controlnet = ControlNetModel.from_pretrained(\n",
        "        \"xinsir/controlnet-scribble-sdxl-1.0\",\n",
        "        torch_dtype=torch.float16\n",
        "    )\n",
        "    pipe = StableDiffusionXLPipeline.from_pretrained(\n",
        "        \"stabilityai/stable-diffusion-xl-base-1.0\",\n",
        "        controlnet=controlnet,\n",
        "        torch_dtype=torch.float16,\n",
        "        variant=\"fp16\"\n",
        "    )\n",
        "    pipe.scheduler = UniPCMultistepScheduler.from_config(pipe.scheduler.config)\n",
        "    pipe.to(\"cuda\")\n",
        "    return pipe\n",
        "\n",
        "pipe = load_pipeline()\n",
        "\n",
        "def infer(sketch: Image.Image, prompt: str) -> Image.Image:\n",
        "    sketch = preprocess_sketch_pil(sketch)\n",
        "    result = pipe(prompt=prompt, image=sketch, num_inference_steps=30)\n",
        "    return result.images[0]\n",
        "\n",
        "def main():\n",
        "    sketch_input = gr.Image(label=\"Upload Sketch Image\", type=\"pil\")\n",
        "    prompt_input = gr.Textbox(lines=1, placeholder=\"Enter a prompt...\", label=\"Prompt\")\n",
        "\n",
        "    interface = gr.Interface(\n",
        "        fn=infer,\n",
        "        inputs=[sketch_input, prompt_input],\n",
        "        outputs=gr.Image(type=\"pil\", label=\"Generated Image\"),\n",
        "        title=\"Sketch to Image\",\n",
        "        description=\"Upload a sketch and enter a prompt. This app uses Stable Diffusion XL with ControlNet for high-fidelity image generation.\"\n",
        "    )\n",
        "    interface.launch()\n",
        "\n",
        "if __name__ == \"__main__\":\n",
        "    main()\n"
      ],
      "metadata": {
        "id": "C1OvyQealbki"
      },
      "execution_count": null,
      "outputs": []
    }
  ]
}